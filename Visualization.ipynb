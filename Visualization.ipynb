{
  "nbformat": 4,
  "nbformat_minor": 2,
  "metadata": {
    "colab": {
      "name": "Visualization.ipynb",
      "provenance": [],
      "include_colab_link": true
    },
    "kernelspec": {
      "name": "python3",
      "display_name": "Python 3.8.5 64-bit ('base': conda)"
    },
    "language_info": {
      "name": "python",
      "version": "3.8.5",
      "mimetype": "text/x-python",
      "codemirror_mode": {
        "name": "ipython",
        "version": 3
      },
      "pygments_lexer": "ipython3",
      "nbconvert_exporter": "python",
      "file_extension": ".py"
    },
    "interpreter": {
      "hash": "ed0d95a605922d211e52511cf7748e98a38728cdd29efc499aa0077f6af9ea7a"
    }
  },
  "cells": [
    {
      "cell_type": "markdown",
      "source": [
        "<a href=\"https://colab.research.google.com/github/The-HydroSafers/Call-for-code/blob/main/Visualization.ipynb\" target=\"_parent\"><img src=\"https://colab.research.google.com/assets/colab-badge.svg\" alt=\"Open In Colab\"/></a>"
      ],
      "metadata": {
        "id": "view-in-github",
        "colab_type": "text"
      }
    },
    {
      "cell_type": "code",
      "execution_count": 4,
      "source": [
        "import os\n",
        "import random\n",
        "import time\n",
        "import pandas as pd\n",
        "import numpy as np\n",
        "import matplotlib.pyplot as plt\n",
        "%matplotlib inline\n",
        "import seaborn as sns\n",
        "from tqdm import tqdm\n",
        "from PIL import Image\n",
        "import torch.nn.functional as F\n",
        "import torch.optim as om\n",
        "import torchvision as tv\n",
        "import torch.utils.data as data\n",
        "import torch\n",
        "import torch.nn as nn"
      ],
      "outputs": [],
      "metadata": {
        "id": "OaxpnPpWsQxk"
      }
    },
    {
      "cell_type": "markdown",
      "source": [
        "# Code Reproducibility"
      ],
      "metadata": {
        "id": "g-v2WF1f3RSi"
      }
    },
    {
      "cell_type": "code",
      "execution_count": 2,
      "source": [
        "seed = 3\n",
        "random.seed(seed)\n",
        "np.random.seed(seed)\n",
        "torch.manual_seed(seed)\n",
        "torch.backends.cudnn.deterministic = True\n",
        "torch.backends.cudnn.benchmark = False"
      ],
      "outputs": [],
      "metadata": {
        "id": "vQ5nmqnJsvNf"
      }
    },
    {
      "cell_type": "markdown",
      "source": [
        "## Acquire data From Google Colab \n",
        "- Uncomment this line"
      ],
      "metadata": {}
    },
    {
      "cell_type": "code",
      "execution_count": 1,
      "source": [
        "# from google.colab import drive\n",
        "# drive.mount(\"/content/drive\")"
      ],
      "outputs": [
        {
          "output_type": "stream",
          "name": "stdout",
          "text": [
            "Mounted at /content/drive\n"
          ]
        }
      ],
      "metadata": {
        "id": "w9EWAP0B3Yu7",
        "outputId": "cf02300f-79a2-472b-e2f1-01367098bc22",
        "colab": {
          "base_uri": "https://localhost:8080/"
        }
      }
    },
    {
      "cell_type": "markdown",
      "source": [
        "## Data From local file\n",
        "- uncomment this line"
      ],
      "metadata": {}
    },
    {
      "cell_type": "code",
      "execution_count": 3,
      "source": [
        "data_dir = \"/media/rohi/Holmes/Call-for-code/turbid\""
      ],
      "outputs": [],
      "metadata": {
        "id": "C3Vcng5cVoKB"
      }
    },
    {
      "cell_type": "code",
      "execution_count": 5,
      "source": [
        "\n",
        "# Helper function to load up the dataset\n",
        "def create_dataset(dir):\n",
        "    # an unnested list of filenames\n",
        "    imgFilesList = []\n",
        "\n",
        "    # labels for each individual image in the list\n",
        "    class_labels = []\n",
        "\n",
        "    labels = os.listdir(data_dir)\n",
        "    nClasses = len(labels)\n",
        "\n",
        "    imgFiles = [[os.path.join(data_dir, labels[i], x)\n",
        "     for x in tqdm(os.listdir(os.path.join(data_dir, labels[i])), desc=f\"Loading Images from {labels[i]}\")] \n",
        "     for i in range(nClasses)]\n",
        "\n",
        "    # count of images in each category\n",
        "    count_labels = [len(imgFiles[i]) for i in range(nClasses)]\n",
        "\n",
        "    for i in range(nClasses):\n",
        "        imgFilesList.extend(imgFiles[i])\n",
        "        class_labels.extend([i]*count_labels[i])\n",
        "\n",
        "    # total number of images\n",
        "    total_imgs = len(class_labels)\n",
        "    img_width, img_height = Image.open(imgFilesList[0]).size\n",
        "\n",
        "    return imgFilesList, class_labels, labels, count_labels , total_imgs, img_width, img_height, nClasses\n"
      ],
      "outputs": [],
      "metadata": {}
    },
    {
      "cell_type": "code",
      "execution_count": 6,
      "source": [
        "imgFilesList, class_labels, labels,count_labels, total_imgs, img_width, img_height, nClasses = create_dataset(data_dir)"
      ],
      "outputs": [
        {
          "output_type": "stream",
          "name": "stderr",
          "text": [
            "Loading Images from Chlorophyll: 100%|██████████| 44/44 [00:00<00:00, 27856.51it/s]\n",
            "Loading Images from DeepBlue: 100%|██████████| 21/21 [00:00<00:00, 52026.22it/s]\n",
            "Loading Images from Milk: 100%|██████████| 20/20 [00:00<00:00, 159479.24it/s]\n"
          ]
        }
      ],
      "metadata": {
        "id": "vIQE6ZACVqs2"
      }
    },
    {
      "cell_type": "code",
      "execution_count": 7,
      "source": [
        "print(f\"we have {total_imgs} images, with  {nClasses} classes\\n The count per label are {count_labels}\")"
      ],
      "outputs": [
        {
          "output_type": "stream",
          "name": "stdout",
          "text": [
            "we have 85 images, with  3 classes\n",
            " The count per label are [44, 21, 20]\n"
          ]
        }
      ],
      "metadata": {
        "id": "Nf2CY9WZV238",
        "outputId": "e22092e3-6476-48ae-f501-c86037ad0466",
        "colab": {
          "base_uri": "https://localhost:8080/",
          "height": 35
        }
      }
    },
    {
      "cell_type": "code",
      "execution_count": null,
      "source": [],
      "outputs": [],
      "metadata": {
        "id": "RcjXWC2ZV4VR"
      }
    }
  ]
}